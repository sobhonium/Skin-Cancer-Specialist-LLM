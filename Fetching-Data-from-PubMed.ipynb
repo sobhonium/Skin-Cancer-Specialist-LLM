{
 "cells": [
  {
   "cell_type": "code",
   "execution_count": 1,
   "id": "379c2d60-ae4f-4a20-960e-a04b55999145",
   "metadata": {},
   "outputs": [],
   "source": [
    "# Dec 2023\n",
    "# Author: SBN\n",
    "# This notebook shows a pathway and libraries needed to fetch data from PubMed."
   ]
  },
  {
   "cell_type": "code",
   "execution_count": null,
   "id": "bcc69a9f-0f23-4ba7-90ff-eafe6d2ab11e",
   "metadata": {},
   "outputs": [],
   "source": []
  },
  {
   "cell_type": "code",
   "execution_count": null,
   "id": "959d812f-8b77-49b2-b483-83cbfdddadcd",
   "metadata": {},
   "outputs": [],
   "source": []
  },
  {
   "cell_type": "code",
   "execution_count": null,
   "id": "c836d59b-68e8-401e-8951-67e7cd0793b1",
   "metadata": {},
   "outputs": [],
   "source": [
    "## uncomment for insalling:\n",
    "# !pip install biopython\n",
    "# !pip install pytz\n",
    "# !pip install transformers datasets\n",
    "# !pip install torch torchvision torchaudio\n",
    "# !pip install accelerate\n",
    "# !pip install --upgrade accelerate\n",
    "# !pip install --upgrade transformers\n"
   ]
  },
  {
   "cell_type": "code",
   "execution_count": null,
   "id": "980d2024-9a01-437c-bb34-72b42f031332",
   "metadata": {},
   "outputs": [],
   "source": []
  },
  {
   "cell_type": "code",
   "execution_count": 2,
   "id": "276e462a-921b-4fae-b60b-e962dcdda71c",
   "metadata": {},
   "outputs": [
    {
     "name": "stderr",
     "output_type": "stream",
     "text": [
      "\n",
      "KeyboardInterrupt\n",
      "\n"
     ]
    }
   ],
   "source": [
    "from Bio import Entrez\n",
    "import pandas as pd\n",
    "import time\n",
    "import warnings\n",
    "warnings.filterwarnings('ignore')\n"
   ]
  },
  {
   "cell_type": "code",
   "execution_count": null,
   "id": "81ee857a-a6bd-4161-8b83-9ecd225f6232",
   "metadata": {},
   "outputs": [],
   "source": []
  },
  {
   "cell_type": "code",
   "execution_count": null,
   "id": "9be90713-a04e-4c83-abd5-b443b0197eb2",
   "metadata": {},
   "outputs": [],
   "source": [
    "# NCBI API settings\n",
    "Entrez.email = \"mirtahmid@gmail.com\"  # Required by NCBI to use the API"
   ]
  },
  {
   "cell_type": "markdown",
   "id": "cba15a04-3705-4b8e-8230-afedd0480f4b",
   "metadata": {},
   "source": [
    "<a id=\"1\"></a>\n",
    "# <div style=\"text-align:center; border-radius:3px 50px; padding:7px; color:white; margin:0; font-size:100%; font-family:Pacifico; background-color:#a0b1b0; \"><b>⭐ Fetching data⭐</b></div>"
   ]
  },
  {
   "cell_type": "code",
   "execution_count": null,
   "id": "c2d1d563-b353-4642-9d35-e882ea655d1e",
   "metadata": {},
   "outputs": [],
   "source": [
    "num_article = 1000\n",
    "handle = Entrez.esearch(db=\"pubmed\", term=\"skin cancer\", retmax=num_article)\n",
    "record = Entrez.read(handle)\n",
    "ids = record['IdList']\n",
    "handle.close()\n"
   ]
  },
  {
   "cell_type": "code",
   "execution_count": null,
   "id": "a5ffba23-9a11-4c91-bda0-cd550ea343f6",
   "metadata": {},
   "outputs": [],
   "source": []
  },
  {
   "cell_type": "code",
   "execution_count": null,
   "id": "0ce52ae6-edf3-4cad-a66a-1536d5a850b8",
   "metadata": {},
   "outputs": [],
   "source": [
    "ids[:-3:-1]"
   ]
  },
  {
   "cell_type": "code",
   "execution_count": null,
   "id": "5190a585-c25c-4360-8c1b-d663fcb4fa87",
   "metadata": {},
   "outputs": [],
   "source": []
  },
  {
   "cell_type": "code",
   "execution_count": null,
   "id": "20961474-9aa1-4944-bb2c-1a77d2d9d510",
   "metadata": {},
   "outputs": [],
   "source": []
  },
  {
   "cell_type": "code",
   "execution_count": null,
   "id": "26b5b9c4-5673-4df3-8a9b-4e0c21b7d35f",
   "metadata": {},
   "outputs": [],
   "source": [
    "# Fetch articles with the specified PubMed IDs\n",
    "handle = Entrez.efetch(db=\"pubmed\", id=\",\".join(ids), rettype=\"xml\", retmode=\"text\")\n",
    "records = Entrez.read(handle)\n",
    "handle.close()"
   ]
  },
  {
   "cell_type": "code",
   "execution_count": null,
   "id": "ef647bd0-116c-40d9-bc95-dde2c6691b71",
   "metadata": {},
   "outputs": [],
   "source": [
    "records.keys()"
   ]
  },
  {
   "cell_type": "markdown",
   "id": "8a28b103-f888-4934-bddd-0c84a1bc7e0e",
   "metadata": {},
   "source": [
    "<a id=\"1\"></a>\n",
    "# <div style=\"text-align:center; border-radius:3px 50px; padding:7px; color:white; margin:0; font-size:100%; font-family:Pacifico; background-color:#a0b1b0; \"><b>⭐ Observe the data parts⭐</b></div>"
   ]
  },
  {
   "cell_type": "code",
   "execution_count": null,
   "id": "1fed62be-9c15-456b-86ec-22f9b43e4691",
   "metadata": {},
   "outputs": [],
   "source": [
    "# pick a sample to see the output of fetching:\n",
    "article_num = 0\n",
    "records[\"PubmedArticle\"][article_num]"
   ]
  },
  {
   "cell_type": "code",
   "execution_count": null,
   "id": "c8ddb43b-d99e-4a51-8d00-12d6ac26c537",
   "metadata": {},
   "outputs": [],
   "source": []
  },
  {
   "cell_type": "code",
   "execution_count": null,
   "id": "89abc5df-6b37-455b-9010-075c16a99a9e",
   "metadata": {},
   "outputs": [],
   "source": []
  },
  {
   "cell_type": "code",
   "execution_count": null,
   "id": "fedc9d94-5d7d-42a6-b449-d18a36e886ed",
   "metadata": {},
   "outputs": [],
   "source": []
  },
  {
   "cell_type": "code",
   "execution_count": null,
   "id": "13265425-ad44-4354-9271-84bce48ead43",
   "metadata": {},
   "outputs": [],
   "source": [
    "records[\"PubmedArticle\"][article_num].keys()"
   ]
  },
  {
   "cell_type": "code",
   "execution_count": null,
   "id": "188cab89-4200-4a7f-9581-d4793f6c8723",
   "metadata": {},
   "outputs": [],
   "source": [
    "records[\"PubmedArticle\"][article_num]['MedlineCitation'].keys()"
   ]
  },
  {
   "cell_type": "code",
   "execution_count": null,
   "id": "9730a520-3e8d-4fb3-bf5d-30f15b1aa607",
   "metadata": {},
   "outputs": [],
   "source": [
    "records[\"PubmedArticle\"][article_num]['PubmedData'].keys()"
   ]
  },
  {
   "cell_type": "code",
   "execution_count": null,
   "id": "990aa2b5-fa1b-4f01-9a4c-6ba0fbbe48f9",
   "metadata": {},
   "outputs": [],
   "source": [
    "records[\"PubmedArticle\"][article_num]['MedlineCitation'][\"Article\"].keys()"
   ]
  },
  {
   "cell_type": "code",
   "execution_count": null,
   "id": "d5cdd235-e246-463c-b317-38f70de02684",
   "metadata": {},
   "outputs": [],
   "source": [
    "records[\"PubmedArticle\"][article_num]['MedlineCitation'][\"Article\"][\"Abstract\"].keys()"
   ]
  },
  {
   "cell_type": "code",
   "execution_count": null,
   "id": "c5fc397c-6698-4ff4-8846-0a7b4bf77e89",
   "metadata": {},
   "outputs": [],
   "source": [
    "records[\"PubmedArticle\"][article_num]['MedlineCitation'][\"Article\"][\"ArticleTitle\"]"
   ]
  },
  {
   "cell_type": "code",
   "execution_count": null,
   "id": "8b8fc60e-17dc-4237-b0c2-a5f697ff46eb",
   "metadata": {},
   "outputs": [],
   "source": [
    "records[\"PubmedArticle\"][article_num]['MedlineCitation'][\"Article\"][\"Abstract\"][\"AbstractText\"]"
   ]
  },
  {
   "cell_type": "markdown",
   "id": "1a5ed2e3-1f31-4b00-b4e1-6eb5f0b2a0a7",
   "metadata": {},
   "source": [
    "<a id=\"1\"></a>\n",
    "# <div style=\"text-align:center; border-radius:3px 50px; padding:7px; color:white; margin:0; font-size:100%; font-family:Pacifico; background-color:#a0b1b0; \"><b>⭐ Saving data⭐</b></div>"
   ]
  },
  {
   "cell_type": "code",
   "execution_count": null,
   "id": "8abd5965-1635-492b-8efa-6853fadb5d5e",
   "metadata": {},
   "outputs": [],
   "source": [
    "abstract_bank = []\n",
    "failed_fetech = 0\n",
    "for i in range(num_article):\n",
    "    try:\n",
    "        abstract_text = records[\"PubmedArticle\"][i]['MedlineCitation'][\"Article\"][\"Abstract\"][\"AbstractText\"]\n",
    "        if len(abstract_text)>1: # get rid of those abstracts which has more than 1 part. They are not of standard order.\n",
    "            continue\n",
    "    except:\n",
    "        # print('one article is not fetched!')\n",
    "        failed_fetech+=1\n",
    "    abstract_bank.append(abstract_text[0])\n",
    "    # print(abstract_text[0])\n",
    "print(f\"{failed_fetech/num_article *100}% of the data is corrput and failed!\")    "
   ]
  },
  {
   "cell_type": "code",
   "execution_count": null,
   "id": "303b99fb-e8fc-4d40-9aed-99cc51ac68d2",
   "metadata": {},
   "outputs": [],
   "source": []
  },
  {
   "cell_type": "code",
   "execution_count": null,
   "id": "e721df5f-4d22-41b3-88f4-943304c29dd0",
   "metadata": {},
   "outputs": [],
   "source": [
    "file_output = \"pubmed_skin_cancer_articles.txt\" # where to save the data.\n",
    "with open(file_output, \"w\") as f:\n",
    "    for abstract in abstract_bank:\n",
    "        f.write(abstract + \"\\n\\n\")\n",
    "print(\"Fetched articles saved to 'pubmed_skin_cancer_articles.txt'\")"
   ]
  },
  {
   "cell_type": "code",
   "execution_count": null,
   "id": "c834cdb2-240c-4959-8ae1-7fa2de52999d",
   "metadata": {},
   "outputs": [],
   "source": [
    "len(records[\"PubmedArticle\"])"
   ]
  },
  {
   "cell_type": "code",
   "execution_count": null,
   "id": "9985dc71-eb51-445a-b7ee-0cb3bcb2caaf",
   "metadata": {},
   "outputs": [],
   "source": []
  },
  {
   "cell_type": "code",
   "execution_count": null,
   "id": "1e7ba746-c253-4fa8-894d-c74e5fe43d08",
   "metadata": {},
   "outputs": [],
   "source": []
  },
  {
   "cell_type": "code",
   "execution_count": null,
   "id": "a1b690c8-f821-404a-970e-699fe66a6982",
   "metadata": {},
   "outputs": [],
   "source": []
  },
  {
   "cell_type": "code",
   "execution_count": null,
   "id": "bb2e6738-b9e7-42a6-ae24-59c13705ef81",
   "metadata": {},
   "outputs": [],
   "source": []
  },
  {
   "cell_type": "code",
   "execution_count": null,
   "id": "afad4a75-bf06-4805-90ee-05d6b2819768",
   "metadata": {},
   "outputs": [],
   "source": []
  }
 ],
 "metadata": {
  "kernelspec": {
   "display_name": "Python 3 (ipykernel)",
   "language": "python",
   "name": "python3"
  },
  "language_info": {
   "codemirror_mode": {
    "name": "ipython",
    "version": 3
   },
   "file_extension": ".py",
   "mimetype": "text/x-python",
   "name": "python",
   "nbconvert_exporter": "python",
   "pygments_lexer": "ipython3",
   "version": "3.12.7"
  }
 },
 "nbformat": 4,
 "nbformat_minor": 5
}
